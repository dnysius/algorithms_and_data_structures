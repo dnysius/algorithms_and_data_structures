{
 "cells": [
  {
   "cell_type": "markdown",
   "metadata": {},
   "source": [
    "# Practice Interview\n",
    "\n",
    "## Objective\n",
    "\n",
    "_*The partner assignment aims to provide participants with the opportunity to practice coding in an interview context. You will analyze your partner's Assignment 1. Moreover, code reviews are common practice in a software development team. This assignment should give you a taste of the code review process.*_\n",
    "\n",
    "## Group Size\n",
    "\n",
    "Each group should have 2 people. You will be assigned a partner\n",
    "\n",
    "## Part 1:\n",
    "\n",
    "You and your partner must share each other's Assignment 1 submission."
   ]
  },
  {
   "cell_type": "markdown",
   "metadata": {},
   "source": [
    "\n",
    "## Part 2:\n",
    "\n",
    "Create a Jupyter Notebook, create 6 of the following headings, and complete the following for your partner's assignment 1:\n",
    "\n",
    "-   Paraphrase the problem in your own words.\n"
   ]
  },
  {
   "cell_type": "markdown",
   "metadata": {},
   "source": [
    "Find the list of numbers that are missing from the series of integers in the range `[0, n]` and if there are no missing numbers, output `-1`."
   ]
  },
  {
   "cell_type": "markdown",
   "metadata": {},
   "source": [
    "\n",
    "-   Create 1 new example that demonstrates you understand the problem. Trace/walkthrough 1 example that your partner made and explain it.\n"
   ]
  },
  {
   "cell_type": "markdown",
   "metadata": {},
   "source": [
    "### New Example\n",
    "\n",
    "Input: `lst = [6,4,4,0,1,3]`\n",
    "\n",
    "Output: `[2, 5]`\n",
    "\n",
    "### Walkthrough Example 3:\n",
    "\n",
    "Input: `lst = [6, 8, 2, 3, 5, 7, 0, 1, 10]`\n",
    "\n",
    "Output: `[4, 9]`\n",
    "\n",
    "The largest number in the input is `10` so our range is `[0, 10]`. Comparing the input to the expected series of integers `[0, 1, 2, 3, 4, 5, 6, 7, 8, 9, 10]`, we can see that `[4, 9]` are the missing values."
   ]
  },
  {
   "cell_type": "markdown",
   "metadata": {},
   "source": [
    "\n",
    "-   Copy the solution your partner wrote. \n"
   ]
  },
  {
   "cell_type": "code",
   "execution_count": 12,
   "metadata": {},
   "outputs": [
    {
     "name": "stdout",
     "output_type": "stream",
     "text": [
      "[1]\n",
      "[2, 3, 4]\n",
      "[4, 9]\n",
      "[2, 4]\n",
      "-1\n"
     ]
    }
   ],
   "source": [
    "from typing import List\n",
    "\n",
    "def missing_num(nums: List[int]) -> List[int]:\n",
    "    if not nums:\n",
    "        return -1  # Edge case: empty list\n",
    "    \n",
    "    n = max(nums)  # Find the maximum number in the list\n",
    "    full_range = set(range(n + 1))  # Generate the full range of numbers\n",
    "    present_numbers = set(nums)  # Convert list to set to remove duplicates\n",
    "    \n",
    "    missing = sorted(full_range - present_numbers)  # Find missing numbers and sort them\n",
    "    \n",
    "    return missing if missing else -1  # Return missing numbers or -1 if none are missing\n",
    "\n",
    "# Testing provided examples\n",
    "print(missing_num([0, 2]))                # Expected output: [1]\n",
    "print(missing_num([5, 0, 1]))             # Expected output: [2, 3, 4]\n",
    "print(missing_num([6, 8, 2, 3, 5, 7, 0, 1, 10]))  # Expected output: [4, 9]\n",
    "\n",
    "# Testing new examples\n",
    "print(missing_num([3, 0, 1, 3, 5, 5]))  # Expected output: [2, 4]\n",
    "print(missing_num([4, 2, 0, 3, 1]))     # Expected output: -1"
   ]
  },
  {
   "cell_type": "markdown",
   "metadata": {},
   "source": [
    "\n",
    "-   Explain why their solution works in your own words.\n"
   ]
  },
  {
   "cell_type": "markdown",
   "metadata": {},
   "source": [
    "The solution works by finding the unique integers in the input list and creating the complete series of integers from `[0, n]`, then finding the difference between the two sets (set difference)."
   ]
  },
  {
   "cell_type": "markdown",
   "metadata": {},
   "source": [
    "\n",
    "-   Explain the problem’s time and space complexity in your own words.\n"
   ]
  },
  {
   "cell_type": "markdown",
   "metadata": {},
   "source": [
    "### Time Complexity\n",
    "\n",
    "- The check for an empty list is O(1)\n",
    "- Expected case of creating full_range is O(n)\n",
    "- Expected case of converting list to set to remove duplicates is O(n)\n",
    "- According to https://docs.python.org/3/howto/sorting.html the sorting algorithm used is Timsort, which is O(n log n)\n",
    "- Set difference is O(n) (https://wiki.python.org/moin/TimeComplexity)\n",
    "\n",
    "The dominant term here is O(nlogn) from sorting, since it grows faster than O(n) and O(1). Therefore, the time complexity is O(nlogn).\n",
    "\n",
    "### Space Complexity:\n",
    "\n",
    "Creation of the sets have O(n) space complexity, and the rest are variables with O(1) space complexity. Therefore, the space complexity of the solution is O(n)."
   ]
  },
  {
   "cell_type": "markdown",
   "metadata": {},
   "source": [
    "\n",
    "-   Critique your partner's solution, including explanation, and if there is anything that should be adjusted.\n"
   ]
  },
  {
   "cell_type": "markdown",
   "metadata": {},
   "source": [
    "Instead of creating a variable `n = max(nums) ` which is only used in `full_range = set(range(n + 1))  # Generate the full range of numbers`, we can save those bytes by foregoing `n` and using `full_range = set(range(max(nums) + 1))  # Generate the full range of numbers`. Cannot think of any other adjustments."
   ]
  },
  {
   "cell_type": "markdown",
   "metadata": {},
   "source": [
    "\n",
    "## Part 3:\n",
    "\n",
    "Please write a 200 word reflection documenting your process from assignment 1, and your presentation and review experience with your partner at the bottom of the Jupyter Notebook under a new heading \"Reflection.\" Again, export this Notebook as pdf.\n"
   ]
  },
  {
   "cell_type": "markdown",
   "metadata": {},
   "source": [
    "### Reflection"
   ]
  },
  {
   "cell_type": "markdown",
   "metadata": {},
   "source": [
    "My approach to assignment 1 question 1 was to understand the problem and thinking of how I would manually, step-by-step, determine the output based on the input. Then, I thought about how to implement an algorithm that would solve it in an automated manner. At each step and after developing a solution that works, I review each step and think of possible optimizations for time and space complexity."
   ]
  },
  {
   "cell_type": "markdown",
   "metadata": {},
   "source": [
    "\n",
    "## Evaluation Criteria\n",
    "\n",
    "We are looking for the similar points as Assignment 1\n",
    "\n",
    "-   Problem is accurately stated\n",
    "\n",
    "-   New example is correct and easily understandable\n",
    "\n",
    "-   Correctness, time, and space complexity of the coding solution\n",
    "\n",
    "-   Clarity in explaining why the solution works, its time and space complexity\n",
    "\n",
    "-   Quality of critique of your partner's assignment, if necessary\n"
   ]
  },
  {
   "cell_type": "markdown",
   "metadata": {},
   "source": [
    "## Submission Information\n",
    "\n",
    "🚨 **Please review our [Assignment Submission Guide](https://github.com/UofT-DSI/onboarding/blob/main/onboarding_documents/submissions.md)** 🚨 for detailed instructions on how to format, branch, and submit your work. Following these guidelines is crucial for your submissions to be evaluated correctly.\n",
    "\n",
    "### Submission Parameters:\n",
    "* Submission Due Date: `HH:MM AM/PM - DD/MM/YYYY`\n",
    "* The branch name for your repo should be: `assignment-2`\n",
    "* What to submit for this assignment:\n",
    "    * This Jupyter Notebook (assignment_2.ipynb) should be populated and should be the only change in your pull request.\n",
    "* What the pull request link should look like for this assignment: `https://github.com/<your_github_username>/algorithms_and_data_structures/pull/<pr_id>`\n",
    "    * Open a private window in your browser. Copy and paste the link to your pull request into the address bar. Make sure you can see your pull request properly. This helps the technical facilitator and learning support staff review your submission easily.\n",
    "\n",
    "Checklist:\n",
    "- [ ] Created a branch with the correct naming convention.\n",
    "- [ ] Ensured that the repository is public.\n",
    "- [ ] Reviewed the PR description guidelines and adhered to them.\n",
    "- [ ] Verify that the link is accessible in a private browser window.\n",
    "\n",
    "If you encounter any difficulties or have questions, please don't hesitate to reach out to our team via our Slack at `#cohort-3-help`. Our Technical Facilitators and Learning Support staff are here to help you navigate any challenges.\n"
   ]
  }
 ],
 "metadata": {
  "kernelspec": {
   "display_name": "dsi_participant",
   "language": "python",
   "name": "python3"
  },
  "language_info": {
   "codemirror_mode": {
    "name": "ipython",
    "version": 3
   },
   "file_extension": ".py",
   "mimetype": "text/x-python",
   "name": "python",
   "nbconvert_exporter": "python",
   "pygments_lexer": "ipython3",
   "version": "3.9.20"
  }
 },
 "nbformat": 4,
 "nbformat_minor": 2
}
